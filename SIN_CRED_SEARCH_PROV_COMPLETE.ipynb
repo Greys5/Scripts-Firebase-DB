{
  "nbformat": 4,
  "nbformat_minor": 0,
  "metadata": {
    "colab": {
      "name": "SIN CRED SEARCH PROV COMPLETE",
      "provenance": [],
      "collapsed_sections": []
    },
    "kernelspec": {
      "name": "python3",
      "display_name": "Python 3"
    }
  },
  "cells": [
    {
      "cell_type": "code",
      "metadata": {
        "id": "qj4yZbL9x_fl"
      },
      "source": [
        "from google.colab import auth\n",
        "auth.authenticate_user()\n",
        "\n"
      ],
      "execution_count": null,
      "outputs": []
    },
    {
      "cell_type": "code",
      "source": [
        "\n",
        "from google.cloud import firestore\n",
        "\n",
        "PROJECT_ID = \"uma-v2\" # or the corresponding PROJECT_ID\n",
        "db = firestore.Client(project=PROJECT_ID)\n",
        "\n",
        "import pandas as pd\n",
        "import numpy as np\n",
        "import json\n",
        "import csv\n",
        "import random\n",
        "from pprint import pprint\n"
      ],
      "metadata": {
        "id": "QlbUQR5Z9ZuE"
      },
      "execution_count": null,
      "outputs": []
    },
    {
      "cell_type": "code",
      "metadata": {
        "id": "TMlzLgu1y8ck"
      },
      "source": [
        ""
      ],
      "execution_count": null,
      "outputs": []
    },
    {
      "cell_type": "markdown",
      "source": [
        "SCRIPT PARA BUSCAR INFORMACIÓN DE USUARIO\n",
        "\n",
        "Opciones:\n",
        "\n",
        "\n",
        "\n",
        "1.   DNI\n",
        "2.   Nro de tlf (Recordar que siempre va el código (549))\n",
        "3.   Correo\n"
      ],
      "metadata": {
        "id": "Te5l2IvPOMjz"
      }
    },
    {
      "cell_type": "markdown",
      "source": [
        "\n",
        "# A tener en cuenta:\n",
        "\n",
        "\n",
        "*   **Obra Social:** Imprime la misma OS o puede ser el Plan\n",
        "*   **CORPORATE_NORM:** DEBE imprimir la OS, en caso de no hacerlo hay que agregar OS\n",
        "*   ***Coverage:*** Reconfirma que la OS esté correctamente establecida\n",
        "\n"
      ],
      "metadata": {
        "id": "UMqGOMtGQkYU"
      }
    },
    {
      "cell_type": "code",
      "source": [
        "#@title  { display-mode: \"form\" }\n",
        "#@title  { vertical-output: true }\n",
        "#@title  { display-mode: \"form\" }\n",
        "#@markdown Ejecutar con un Único dato de búsqueda a la vez\n",
        "\n",
        "dni = \"31307263\"#@param {type:\"raw\"}\n",
        "ws= \"\"#@param {type:\"string\"}\n",
        "correo = \"\"#@param {type:\"string\"}\n",
        "\n",
        "if dni != \"\":\n",
        "  datos = db.collection('user').where('dni', '==', dni).stream()\n",
        "  for a in datos:\n",
        "    b = a.to_dict()\n",
        "    UID = a.id\n",
        "    name = b.get(\"fullname\")\n",
        "    dni = b.get(\"dni\")\n",
        "    number = b.get(\"ws\")\n",
        "    mail= b.get(\"email\")\n",
        "    os = b.get(\"corporate\") #+ \"Coverage>>\" + b.get(\"corporate_norm\")\n",
        "    cov = b.get(\"corporate_norm\")\n",
        "    cover = b.get(\"coverage\")\n",
        "    credits = b.get(\"uma_creditos\")\n",
        "    \n",
        "    print(f\"Este es el UID: {UID}\")\n",
        "    print(f\" Nombre: {name} | DNI: {dni}| Número: {number} | Correo: {mail} \"  )\n",
        "    print(f\"Info OS>>>>| Obra Social: {os} | CORPORATE_NORM: {cov} | Coverage: {cover} \")\n",
        "    print(f'Tiene Créditos: {credits}')\n",
        "    print(\"-\"*150)\n",
        "    \n",
        "    dependants = db.collection(f\"user/{UID}/dependants\").stream()\n",
        "    for c in dependants:\n",
        "        d = c.to_dict()\n",
        "        duid = c.id\n",
        "        d_name = d.get(\"fullname\")\n",
        "        d_dni = d.get(\"dni\")\n",
        "        d_os = d.get(\"corporate\")\n",
        "        d_cor = d.get(\"corporate_norm\")\n",
        "\n",
        "        print(f\"Dependants UID: {duid}\")\n",
        "        print(f\"Dependants: {d_name} | Dni: {d_dni} | Obra social: {d_os} Corporate Norm: {d_cor}\")\n",
        "        print(\"_\"*150)    \n",
        "        print(\"_\"*150)    \n",
        "        print(\"_\"*150)    \n",
        "\n",
        "elif ws:\n",
        "  datos = db.collection(\"user\").where(\"ws\", \"==\", ws).stream()\n",
        "  for a in datos:\n",
        "    b = a.to_dict()\n",
        "    UID = a.id\n",
        "    name = b.get(\"fullname\")\n",
        "    dni = b.get(\"dni\")\n",
        "    number = b.get(\"ws\")\n",
        "    mail= b.get(\"email\")\n",
        "    os = b.get(\"corporate\") #+ \"Coverage>>\" + b.get(\"corporate_norm\")\n",
        "    cov = b.get(\"corporate_norm\")\n",
        "    cover = b.get(\"coverage\")\n",
        "    credits = b.get(\"uma_creditos\")\n",
        "    \n",
        "    print(f\"Este es el UID: {UID}\")\n",
        "    print(f\" Nombre: {name} | DNI: {dni}| Número: {number} | Correo: {mail} \"  )\n",
        "    print(f\"Info OS>>>>| Obra Social: {os} | CORPORATE_NORM: {cov} | Coverage: {cover} \")\n",
        "    print(f'Tiene Créditos: {credits}')\n",
        "    print(\"-\"*150)\n",
        "    \n",
        "    dependants = db.collection(f\"user/{UID}/dependants\").stream()\n",
        "    for c in dependants:\n",
        "        d = c.to_dict()\n",
        "        duid = c.id\n",
        "        d_name = d.get(\"fullname\")\n",
        "        d_dni = d.get(\"dni\")\n",
        "        d_os = d.get(\"corporate\")\n",
        "        d_cor = d.get(\"corporate_norm\")\n",
        "\n",
        "        print(f\"Dependants UID: {duid}\")\n",
        "        print(f\"Dependants: {d_name} | Dni: {d_dni} | Obra social: {d_os} Corporate Norm: {d_cor}\")\n",
        "        print(\"_\"*150)    \n",
        "        print(\"_\"*150)    \n",
        "        print(\"_\"*150)    \n",
        "\n",
        "\n",
        "elif correo:\n",
        "  datos = db.collection(\"user\").where(\"email\", \"==\", correo).stream()\n",
        "  for a in datos:\n",
        "    b = a.to_dict()\n",
        "    UID = a.id\n",
        "    name = b.get(\"fullname\")\n",
        "    dni = b.get(\"dni\")\n",
        "    number = b.get(\"ws\")\n",
        "    os = b.get(\"corporate\") #+ \"Coverage>>\" + b.get(\"corporate_norm\")\n",
        "    cov = b.get(\"corporate_norm\")\n",
        "    cover = b.get(\"coverage\")\n",
        "    credits = b.get(\"uma_creditos\")\n",
        "\n",
        "    print(f\"Este es el UID: {UID}\")\n",
        "    print(f\" Nombre: {name} | DNI: {dni}| Número: {number} | Correo: {mail} \"  )\n",
        "    print(f\"Info OS>>>>| Obra Social: {os} | CORPORATE_NORM: {cov} | Coverage: {cover} \")\n",
        "    print(f'Tiene Créditos: {credits}')\n",
        "    print(\"-\"*150)\n",
        "    \n",
        "    dependants = db.collection(f\"user/{UID}/dependants\").stream()\n",
        "    for c in dependants:\n",
        "        d = c.to_dict()\n",
        "        duid = c.id\n",
        "        d_name = d.get(\"fullname\")\n",
        "        d_dni = d.get(\"dni\")\n",
        "        d_os = d.get(\"corporate\")\n",
        "        d_cor = d.get(\"corporate_norm\")\n",
        "\n",
        "        print(f\"Dependants UID: {duid}\")\n",
        "        print(f\"Dependants: {d_name} | Dni: {d_dni} | Obra social: {d_os} Corporate Norm: {d_cor}\")\n",
        "        print(\"_\"*150)    \n",
        "        print(\"_\"*150)    \n",
        "        print(\"_\"*150)    "
      ],
      "metadata": {
        "id": "QlmLpO9xMjWN",
        "colab": {
          "base_uri": "https://localhost:8080/"
        },
        "outputId": "32ef1eeb-82d4-444f-8ea3-cb7662b283cd"
      },
      "execution_count": null,
      "outputs": [
        {
          "output_type": "stream",
          "name": "stdout",
          "text": [
            "Este es el UID: p6VNO4Tv6JTNVfo9qrEFbJrB59z1\n",
            " Nombre: Laura Agustina Frias  | DNI: 31307263| Número: 5491139176628 | Correo: lf_laurafrias@hotmail.com \n",
            "Info OS>>>>| Obra Social: Accord Salud | CORPORATE_NORM: UNION PERSONAL | Coverage: [{'plan': 'UNION PERSONAL', 'type': 'corporate'}, {'type': 'padron', 'plan': 'UNION PERSONAL'}] \n",
            "Tiene Créditos: 0\n",
            "------------------------------------------------------------------------------------------------------------------------------------------------------\n",
            "Dependants UID: 1X9K9GItoOeAOxyzBcs5\n",
            "Dependants: Tiziano Nahuel Escobedo Frias | Dni: 46990571 | Obra social: Accord Salud Corporate Norm: UNION PERSONAL\n",
            "______________________________________________________________________________________________________________________________________________________\n",
            "______________________________________________________________________________________________________________________________________________________\n",
            "______________________________________________________________________________________________________________________________________________________\n",
            "Dependants UID: CG9DZ7TcEtOR92vzL5eI\n",
            "Dependants: Laura Agustina Frias  | Dni: 31307263 | Obra social: Accord Salud Corporate Norm: UNION PERSONAL\n",
            "______________________________________________________________________________________________________________________________________________________\n",
            "______________________________________________________________________________________________________________________________________________________\n",
            "______________________________________________________________________________________________________________________________________________________\n",
            "Dependants UID: Rr3X41wwn5gIQwLwODWn\n",
            "Dependants: Joaquin Emanuel Frias | Dni: 41047846 | Obra social: Sin cobertura Corporate Norm: SIN OBRA SOCIAL (UMA)\n",
            "______________________________________________________________________________________________________________________________________________________\n",
            "______________________________________________________________________________________________________________________________________________________\n",
            "______________________________________________________________________________________________________________________________________________________\n",
            "Dependants UID: tqarCMAjO7lHiYgCV1X5\n",
            "Dependants: Priscila Candela Escobedo Frias | Dni: 48044921 | Obra social: Accord Salud Corporate Norm: UNION PERSONAL\n",
            "______________________________________________________________________________________________________________________________________________________\n",
            "______________________________________________________________________________________________________________________________________________________\n",
            "______________________________________________________________________________________________________________________________________________________\n"
          ]
        }
      ]
    },
    {
      "cell_type": "code",
      "source": [
        ""
      ],
      "metadata": {
        "id": "C0YJUrmw3JBV"
      },
      "execution_count": null,
      "outputs": []
    }
  ]
}